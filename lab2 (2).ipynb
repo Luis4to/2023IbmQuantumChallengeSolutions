{
 "cells": [
  {
   "cell_type": "markdown",
   "id": "0ac9dd0b-210c-470e-8313-5cf7f7c57b65",
   "metadata": {},
   "source": [
    "# Lab 2: Quantum teleportation\n",
    "\n",
    "Welcome to this lab on quantum teleportation in which you'll solve a problem that Alice and Bob have been having. Relax, it's not a relationship problem! Alice possesses a qubit in an unknown state $\\lvert \\psi \\rangle$ and she wishes to transfer this quantum state to Bob. However, they are very far apart and lack any means to transfer quantum information directly, only classical information. Is it possible to achieve their goal?\n",
    "\n",
    "It turns out that if Alice and Bob share an entangled qubit pair, she can transfer her qubit state to Bob by sending two bits of classical information. This process is known as teleportation because, at the end, Bob will possess |ψ⟩, and Alice will no longer have it."
   ]
  },
  {
   "cell_type": "markdown",
   "id": "11a966b2-a7c1-4584-87b2-1b8e4277f997",
   "metadata": {},
   "source": [
    "## Background\n",
    "\n",
    "Quantum teleportation is a protocol that allows the transfer of quantum information from one qubit to another using entanglement and classical communication. It was proposed by Charles Bennett, Gilles Brassard, Claude Crépeau, Richard Jozsa, Asher Peres, and William Wootters in 1993. The process does not transmit the qubit itself but rather transfers the quantum state from the source qubit to the target qubit.\n",
    "\n",
    "The protocol requires three qubits:\n",
    "\n",
    "1. The qubit to be teleported (Alice's qubit)\n",
    "2. One half of an entangled pair of qubits (Alice's second qubit)\n",
    "3. The other half of the entangled pair (Bob's qubit)\n",
    "\n",
    "The protocol can be summarized in the following steps:\n",
    "\n",
    "1. Create an entangled pair of qubits (Bell pair) shared between Alice and Bob.\n",
    "2. Alice performs a Bell basis measurement on her two qubits.\n",
    "3. Alice sends the classical results of her measurement to Bob.\n",
    "4. Bob applies appropriate quantum gates based on Alice's measurement results to obtain the teleported state."
   ]
  },
  {
   "cell_type": "markdown",
   "id": "a26fb942-ca66-4bea-85f5-f8f13d013d5e",
   "metadata": {},
   "source": [
    "## Implementation\n",
    "\n",
    "In order to transfer a quantum bit, Alice and Bob require the help of a third party who provides them with a pair of entangled qubits. Next, Alice carries out certain operations on her qubit and shares the results with Bob through a classical communication channel. Finally, Bob performs a series of operations on his end to successfully obtain Alice's qubit. Now, let's delve deeper into each of these steps."
   ]
  },
  {
   "cell_type": "markdown",
   "id": "71cdf58d-0d4d-43f0-b427-3a3ebca842f5",
   "metadata": {
    "tags": []
   },
   "source": [
    "Our quantum circuit will consist of 3 qubits and 3 classical bits. The qubits will be named as follows:\n",
    "- $s$: The \"source\" qubit containing the state $\\lvert \\psi \\rangle$ which Alice wishes to transmit to Bob.\n",
    "- $a$: The qubit which will initially store Alice's half of the entangled Bell pair.\n",
    "- $b$: The qubit which will initially store Bob's half of the entangled Bell pair.\n",
    "\n",
    "The teleportation protocol itself requires 2 classical bits, and we include a third one to use for measuring Bob's final state. The classical bits will be named as follows:\n",
    "- $c0$: The classical bit that Alice uses to measure $a$.\n",
    "- $c1$: The classical bit that Alice uses to measure $s$.\n",
    "- $c2$: The classical bit that Bob uses to measure $b$."
   ]
  },
  {
   "cell_type": "markdown",
   "id": "bad695dc",
   "metadata": {},
   "source": [
    "### Exercise 1\n",
    "\n",
    "Utilize two qubits to generate an entangled Bell pair state $\\frac{\\lvert 00 \\rangle + \\lvert 11 \\rangle}{\\sqrt{2}}$. Qubit 𝑎 is allocated to Alice, while qubit 𝑏 is designated for Bob.\n",
    "\n",
    "*Hint*: This state can be generated using a Hadamard gate and a CNOT gate."
   ]
  },
  {
   "cell_type": "code",
   "execution_count": 2,
   "id": "d9a9810a-8ec5-4e0e-823d-6865e810b34d",
   "metadata": {
    "tags": []
   },
   "outputs": [],
   "source": [
    "from qiskit import QuantumCircuit, QuantumRegister, ClassicalRegister\n",
    "from qiskit.circuit import Qubit, Clbit\n",
    "\n",
    "\n",
    "def create_bell_pair(qr: QuantumRegister, cr: ClassicalRegister) -> QuantumCircuit:\n",
    "    \"\"\"Creates a bell pair between qubits a and b.\"\"\"\n",
    "    qc = QuantumCircuit(qr, cr)\n",
    "    # unpack qubits\n",
    "    # the first qubit is s but we won't be using it in this exercise\n",
    "    _, a, b = qr\n",
    "    ####### your code goes here #######\n",
    "    qc.h(a)# The state of a is now (|0>+|1>)/sqrt(2), and the full state of the system is (|00>+|10>)/sqrt(2).\n",
    "    qc.cx(a,b)# This step changes |10> to |11>. \n",
    "    \n",
    "\n",
    "    return qc"
   ]
  },
  {
   "cell_type": "code",
   "execution_count": 3,
   "id": "7897fcca-e31a-4b44-9e19-16fbeb85a20d",
   "metadata": {
    "tags": []
   },
   "outputs": [
    {
     "data": {
      "image/png": "[encoded data removed]",
      "text/plain": [
       "<Figure size 206.997x264.88 with 1 Axes>"
      ]
     },
     "execution_count": 3,
     "metadata": {},
     "output_type": "execute_result"
    }
   ],
   "source": [
    "qr = QuantumRegister(3, name=\"q\")\n",
    "cr = ClassicalRegister(3, name=\"c\")\n",
    "qc = create_bell_pair(qr, cr)\n",
    "\n",
    "qc.draw(\"mpl\")"
   ]
  },
  {
   "cell_type": "code",
   "execution_count": 9,
   "id": "d00f07df-5245-47c7-858b-3ae6cbafc475",
   "metadata": {
    "tags": []
   },
   "outputs": [
    {
     "name": "stdout",
     "output_type": "stream",
     "text": [
      "Submitting your answer. Please wait...\n",
      "Congratulations 🎉! Your answer is correct and has been submitted.\n"
     ]
    }
   ],
   "source": [
    "# Submit your circuit\n",
    "\n",
    "from qc_grader.challenges.spring_2023 import grade_ex2a\n",
    "\n",
    "grade_ex2a(qc)"
   ]
  },
  {
   "cell_type": "markdown",
   "id": "b6b5ec32-e8ae-4475-a0ea-5314acf49a4f",
   "metadata": {},
   "source": [
    "Let's assume Alice has qubit $a$ and Bob has qubit $b$ once they separate. Perhaps they really are having a relationship issue 😉."
   ]
  },
  {
   "cell_type": "markdown",
   "id": "6ba11110",
   "metadata": {},
   "source": [
    "### Exercise 2\n",
    "\n",
    "Perform the next steps of the protocol:\n",
    "1. Alice applies a CNOT gate with $s$ (the qubit containing $\\lvert \\psi \\rangle$) as the control and $a$ as the target.\n",
    "2. Alice applies a Hadamard gate to $s$."
   ]
  },
  {
   "cell_type": "code",
   "execution_count": 4,
   "id": "34d7bcd6-166b-4745-8ede-f8aa1872d434",
   "metadata": {
    "tags": []
   },
   "outputs": [],
   "source": [
    "def alice_gates(qr: QuantumRegister, cr: ClassicalRegister):\n",
    "    \"\"\"Creates Alices's gates\"\"\"\n",
    "    qc = create_bell_pair(qr, cr)\n",
    "    qc.barrier()  # Use barrier to separate steps\n",
    "    s, a, b = qr\n",
    "    \n",
    "    ####### your code goes here #######\n",
    "    qc.cx(s,a)# Step 1.\n",
    "    qc.h(s)# Step 2.\n",
    "    return qc"
   ]
  },
  {
   "cell_type": "code",
   "execution_count": 5,
   "id": "3a5096db-1b92-45df-ac1b-52392356b543",
   "metadata": {
    "tags": []
   },
   "outputs": [
    {
     "data": {
      "image/png": "[encoded data removed]",
      "text/plain": [
       "<Figure size 387.597x264.88 with 1 Axes>"
      ]
     },
     "execution_count": 5,
     "metadata": {},
     "output_type": "execute_result"
    }
   ],
   "source": [
    "qc = alice_gates(qr, cr)\n",
    "qc.draw(\"mpl\")"
   ]
  },
  {
   "cell_type": "code",
   "execution_count": 12,
   "id": "66cead66-9c0e-4e7c-a196-efa456e6764b",
   "metadata": {
    "tags": []
   },
   "outputs": [
    {
     "name": "stdout",
     "output_type": "stream",
     "text": [
      "Submitting your answer. Please wait...\n",
      "Congratulations 🎉! Your answer is correct and has been submitted.\n"
     ]
    }
   ],
   "source": [
    "# Submit your circuit\n",
    "\n",
    "from qc_grader.challenges.spring_2023 import grade_ex2b\n",
    "\n",
    "grade_ex2b(qc)"
   ]
  },
  {
   "cell_type": "markdown",
   "id": "2d45bf84-f32b-4dd9-8e73-b8ec920e8b39",
   "metadata": {
    "tags": []
   },
   "source": [
    "### Exercise 3\n",
    "\n",
    "In this step, Alice performs a measurement on both qubits in her possession and saves the results in two classical bits. Afterward, she sends these two bits to Bob.\n",
    "\n",
    "Complete the following code cell so that Alice measures qubit $a$ into classical bit $c0$ and qubit $s$ into classical bit $c1$."
   ]
  },
  {
   "cell_type": "code",
   "execution_count": 6,
   "id": "345bc52c-7745-46a3-90e7-a0e6a03604d5",
   "metadata": {
    "tags": []
   },
   "outputs": [],
   "source": [
    "def measure_and_send(qr: QuantumRegister, cr: ClassicalRegister):\n",
    "    \"\"\"Measures qubits a & b and 'sends' the results to Bob\"\"\"\n",
    "    qc = alice_gates(qr, cr)\n",
    "    qc.barrier()  # Use barrier to separate steps\n",
    "    s, a, b = qr\n",
    "    ####### your code goes here #######\n",
    "    c0, c1, c2 = cr\n",
    "    qc.measure([s,a],[c0,c1])# Measurement of alice qubits, we store the result in classical bits [c0,c1]\n",
    "    \n",
    "\n",
    "    return qc"
   ]
  },
  {
   "cell_type": "code",
   "execution_count": 7,
   "id": "b1c3ec5d-ce66-455c-a2fe-6cca03dd87f4",
   "metadata": {
    "tags": []
   },
   "outputs": [
    {
     "data": {
      "image/png": "[encoded data removed]",
      "text/plain": [
       "<Figure size 568.197x385.28 with 1 Axes>"
      ]
     },
     "execution_count": 7,
     "metadata": {},
     "output_type": "execute_result"
    }
   ],
   "source": [
    "qc = measure_and_send(qr, cr)\n",
    "qc.draw(\"mpl\", cregbundle=False)"
   ]
  },
  {
   "cell_type": "code",
   "execution_count": 15,
   "id": "76b0c0b2-ed71-4eb7-b4d9-9b725a22fccb",
   "metadata": {
    "tags": []
   },
   "outputs": [
    {
     "name": "stdout",
     "output_type": "stream",
     "text": [
      "Submitting your answer. Please wait...\n",
      "Congratulations 🎉! Your answer is correct and has been submitted.\n"
     ]
    }
   ],
   "source": [
    "# Submit your circuit\n",
    "\n",
    "from qc_grader.challenges.spring_2023 import grade_ex2c\n",
    "\n",
    "grade_ex2c(qc)"
   ]
  },
  {
   "cell_type": "markdown",
   "id": "1fec0216-f312-430e-9940-0ab0ffd1beca",
   "metadata": {},
   "source": [
    "### Exercise 4\n",
    "\n",
    "In this step, Bob, who is already in possession of qubit $b$, dynamically adds specific gates to the circuit based on the state of the classical bits received from Alice:\n",
    "\n",
    "- If the bits are `00`, no action is required.\n",
    "- If they are `01`, an 𝑋 gate (also known as a Pauli-X or a bit-flip gate) should be applied.\n",
    "- For bits `10`, a 𝑍 gate (also known as a Pauli-Z or a phase-flip gate) should be applied. \n",
    "- Lastly, if the classical bits are `11`, a combined 𝑍𝑋 gate should be applied, which involves applying both the 𝑍 and 𝑋 gates in sequence."
   ]
  },
  {
   "cell_type": "code",
   "execution_count": 8,
   "id": "e61ddfa4-e536-46dd-b5a7-efe15f3ad617",
   "metadata": {
    "tags": []
   },
   "outputs": [],
   "source": [
    "def bob_gates(qr: QuantumRegister, cr: ClassicalRegister):\n",
    "    \"\"\"Uses qc.if_test to control which gates are dynamically added\"\"\"\n",
    "    qc = measure_and_send(qr, cr)\n",
    "    qc.barrier()  # Use barrier to separate steps\n",
    "    s, a, b = qr\n",
    "    ####### your code goes here #######\n",
    "    c0, c1, c2 = cr\n",
    "    #We add an X gate if c1==1.\n",
    "    with qc.if_test((c1,1)):\n",
    "        qc.x(b)\n",
    "    #We add a Z gate if c0==1\n",
    "    with qc.if_test((c0,1)):\n",
    "        qc.z(b)\n",
    "        \n",
    "    #Clarification: If (c0,c1)==(1,1), then we would have added an X gate and a Z gate to b already.\n",
    "    \n",
    "    return qc"
   ]
  },
  {
   "cell_type": "code",
   "execution_count": 9,
   "id": "ff619db6-282a-450e-9b7c-38b2838cfdeb",
   "metadata": {
    "tags": []
   },
   "outputs": [
    {
     "data": {
      "image/png": "[encoded data removed]",
      "text/plain": [
       "<Figure size 869.197x385.28 with 1 Axes>"
      ]
     },
     "execution_count": 9,
     "metadata": {},
     "output_type": "execute_result"
    }
   ],
   "source": [
    "qc = bob_gates(qr, cr)\n",
    "qc.draw(\"mpl\", cregbundle=False)"
   ]
  },
  {
   "cell_type": "code",
   "execution_count": 27,
   "id": "8ab0270f-f909-4239-bb52-e36410497c21",
   "metadata": {
    "tags": []
   },
   "outputs": [
    {
     "name": "stdout",
     "output_type": "stream",
     "text": [
      "Submitting your answer. Please wait...\n",
      "Congratulations 🎉! Your answer is correct and has been submitted.\n"
     ]
    }
   ],
   "source": [
    "# Submit your circuit\n",
    "\n",
    "from qc_grader.challenges.spring_2023 import grade_ex2d\n",
    "\n",
    "grade_ex2d(qc)"
   ]
  },
  {
   "cell_type": "markdown",
   "id": "74dc4ac1-d643-468e-a13c-509e2a12d77b",
   "metadata": {},
   "source": [
    "We will now have Bob measure his qubit into classical bit $c2$. After repeating the entire experiment multiple times, we can gather statistics on the measurement results to confirm that the teleportation worked correctly."
   ]
  },
  {
   "cell_type": "code",
   "execution_count": 10,
   "id": "6223a197-48b8-4b7b-889c-4bf317793a27",
   "metadata": {
    "tags": []
   },
   "outputs": [
    {
     "data": {
      "image/png": "[encoded data removed]",
      "text/plain": [
       "<Figure size 929.397x385.28 with 1 Axes>"
      ]
     },
     "execution_count": 10,
     "metadata": {},
     "output_type": "execute_result"
    }
   ],
   "source": [
    "teleportation_circuit = bob_gates(qr, cr)\n",
    "s, a, b = qr\n",
    "c0, c1, c2 = cr\n",
    "teleportation_circuit.measure(b, c2)\n",
    "teleportation_circuit.draw(\"mpl\")"
   ]
  },
  {
   "cell_type": "markdown",
   "id": "3780a15e-4a86-4d5a-af4c-8662f4462fb9",
   "metadata": {},
   "source": [
    "Now that we have a teleportation circuit, let's ~~beam Captain Kirk to the surface of a strange planet~~ create and teleport a quantum state, and then run the circuit on a simulator."
   ]
  },
  {
   "cell_type": "markdown",
   "id": "977a9fe6",
   "metadata": {},
   "source": [
    "### Exercise 5\n",
    "\n",
    "In the following code cell, construct a full quantum teleportation circuit into the `teleport_superposition_circuit` variable, using the following steps:\n",
    "\n",
    "- Construct a state preparation circuit. Prepare the qubit $s$ by applying an $R_x$ rotation with angle $\\pi / 4$.\n",
    "- Combine the state preparation circuit with your previously built teleportation circuit."
   ]
  },
  {
   "cell_type": "code",
   "execution_count": 11,
   "id": "89fa5bdb-eb09-4fb8-9913-6fd6bb9f8ad2",
   "metadata": {
    "tags": []
   },
   "outputs": [
    {
     "data": {
      "image/png": "[encoded data removed]",
      "text/plain": [
       "<Figure size 267.197x385.28 with 1 Axes>"
      ]
     },
     "execution_count": 11,
     "metadata": {},
     "output_type": "execute_result"
    }
   ],
   "source": [
    "import math\n",
    "\n",
    "#teleport_superposition_circuit: QuantumCircuit\n",
    "\n",
    "####### your code goes here #######\n",
    "\n",
    "\n",
    "teleport_superposition_circuit=QuantumCircuit(qr,cr)# Creating state preparation circuit\n",
    "\n",
    "teleport_superposition_circuit.rx(math.pi/4,qr[0])# Applying Rx to qubit s, with an angle of pi/4\n",
    "\n",
    "teleport_superposition_circuit.append(teleportation_circuit,qr,cr)# Combining the state preparation circuit with the\n",
    "                                                                  # teleportation circuit.\n",
    "\n",
    "# Uncomment this line to draw your circuit\n",
    "teleport_superposition_circuit.draw(\"mpl\", cregbundle=False)"
   ]
  },
  {
   "cell_type": "code",
   "execution_count": 12,
   "id": "1e0ef91c-964a-4fd6-ab52-36c859b69b13",
   "metadata": {
    "tags": []
   },
   "outputs": [
    {
     "data": {
      "image/png": "[encoded data removed]",
      "text/plain": [
       "<Figure size 504x360 with 1 Axes>"
      ]
     },
     "execution_count": 12,
     "metadata": {},
     "output_type": "execute_result"
    }
   ],
   "source": [
    "from qiskit import transpile\n",
    "from qiskit_aer import AerSimulator\n",
    "from qiskit.visualization import plot_histogram\n",
    "\n",
    "sim = AerSimulator()\n",
    "transpiled_circuit = transpile(teleport_superposition_circuit, sim)\n",
    "\n",
    "# run job\n",
    "shots = 1000\n",
    "job = sim.run(transpiled_circuit, shots=shots, dynamic=True)\n",
    "\n",
    "# Get the results and display them\n",
    "exp_result = job.result()\n",
    "exp_counts = exp_result.get_counts()\n",
    "plot_histogram(exp_counts)"
   ]
  },
  {
   "cell_type": "markdown",
   "id": "80e72c0a-8a4e-4d29-92a7-022d3882552a",
   "metadata": {},
   "source": [
    "Let's compute the distribution of just Bob's measurement by marginalizing over the other measured bits."
   ]
  },
  {
   "cell_type": "code",
   "execution_count": 13,
   "id": "96a1fd3b-693b-4cd4-bb51-96f676dd1759",
   "metadata": {
    "tags": []
   },
   "outputs": [
    {
     "data": {
      "image/png": "[encoded data removed]",
      "text/plain": [
       "<Figure size 504x360 with 1 Axes>"
      ]
     },
     "execution_count": 13,
     "metadata": {},
     "output_type": "execute_result"
    }
   ],
   "source": [
    "# trace out Bob's results on qubit 2\n",
    "from qiskit.result import marginal_counts\n",
    "\n",
    "bobs_counts = marginal_counts(exp_counts, [qr.index(b)])\n",
    "plot_histogram(bobs_counts)"
   ]
  },
  {
   "cell_type": "markdown",
   "id": "6a33717b",
   "metadata": {},
   "source": [
    "The marginal distribution should be somewhat close to the ideal probabilities."
   ]
  },
  {
   "cell_type": "code",
   "execution_count": 41,
   "id": "475e3774-da15-483b-9d2d-af54a8e0e568",
   "metadata": {
    "tags": []
   },
   "outputs": [
    {
     "name": "stdout",
     "output_type": "stream",
     "text": [
      "Submitting your answer. Please wait...\n",
      "Congratulations 🎉! Your answer is correct and has been submitted.\n"
     ]
    }
   ],
   "source": [
    "from qc_grader.challenges.spring_2023 import grade_ex2e\n",
    "\n",
    "grade_ex2e(bobs_counts)"
   ]
  },
  {
   "cell_type": "markdown",
   "id": "9baa3099-7577-4bf9-9d1f-e0c54dc384b8",
   "metadata": {},
   "source": [
    "Now that we're fairly certain that ~~Captain Kirk~~ Alice's qubit will teleport safely, let's execute the quantum teleportation circuit on real hardware."
   ]
  },
  {
   "cell_type": "code",
   "execution_count": 42,
   "id": "ca2f737c-a21f-4727-b14d-0e7e315631ba",
   "metadata": {
    "tags": []
   },
   "outputs": [],
   "source": [
    "from qiskit_ibm_provider import IBMProvider\n",
    "\n",
    "provider = IBMProvider()"
   ]
  },
  {
   "cell_type": "code",
   "execution_count": 43,
   "id": "da33a9fb-6b6c-48a4-a1b0-dfca70474e22",
   "metadata": {
    "tags": []
   },
   "outputs": [],
   "source": [
    "hub = \"qc-spring-23-2\" # YOUR HUB\n",
    "group = \"group-5\" # YOUR GROUP\n",
    "project = \"rec6zicggmdxxkpcb\"\n",
    "\n",
    "backend_name = \"ibm_peekskill\"\n",
    "backend = provider.get_backend(backend_name, instance=f\"{hub}/{group}/{project}\")"
   ]
  },
  {
   "cell_type": "code",
   "execution_count": 44,
   "id": "fe48f446-849f-46e9-b0a4-1dd5225db403",
   "metadata": {
    "tags": []
   },
   "outputs": [],
   "source": [
    "# backend.target.add_instruction(IfElseOp, name=\"if_else\") # Uncomment if necessary\n",
    "qc_transpiled = transpile(teleport_superposition_circuit, backend)"
   ]
  },
  {
   "cell_type": "code",
   "execution_count": 46,
   "id": "cee84182-a90d-44b7-b44d-87309202cbc3",
   "metadata": {
    "tags": []
   },
   "outputs": [],
   "source": [
    "job = backend.run(qc_transpiled, shots=1000, dynamic=True)"
   ]
  },
  {
   "cell_type": "markdown",
   "id": "334ff2bd",
   "metadata": {},
   "source": [
    "Because it takes time to run on the real backend, you typically use job_id to call in jobs after a time.\n",
    "The following code invokes jobs through job_id and checks the execution status. Here's how to use it."
   ]
  },
  {
   "cell_type": "code",
   "execution_count": null,
   "id": "de24e832",
   "metadata": {},
   "outputs": [],
   "source": [
    "retrieve_job = provider.retrieve_job(job.job_id())\n",
    "retrieve_job.status()"
   ]
  },
  {
   "cell_type": "markdown",
   "id": "3ab20774",
   "metadata": {},
   "source": [
    "If your job succesfully finished, let's import results."
   ]
  },
  {
   "cell_type": "code",
   "execution_count": 47,
   "id": "fc8458f1-43fd-48b2-a50c-65771262cbf1",
   "metadata": {
    "tags": []
   },
   "outputs": [
    {
     "name": "stdout",
     "output_type": "stream",
     "text": [
      "Traceback \u001b[1;36m(most recent call last)\u001b[0m:\n",
      "\u001b[1;36m  Cell \u001b[1;32mIn[47], line 2\u001b[1;36m\n",
      "\u001b[1;33m    exp_result = retrieve_job.result()\u001b[1;36m\n",
      "\u001b[1;31mNameError\u001b[0m\u001b[1;31m:\u001b[0m name 'retrieve_job' is not defined\n",
      "\n",
      "Use %tb to get the full traceback.\n"
     ]
    },
    {
     "data": {
      "text/html": [
       "\n",
       "<style>\n",
       ".button {\n",
       "  border: none;\n",
       "  color: white;\n",
       "  padding: 4px 8px;\n",
       "  text-align: center;\n",
       "  text-decoration: none;\n",
       "  display: inline-block;\n",
       "  font-size: 12px;\n",
       "  margin: 4px 2px;\n",
       "  transition-duration: 0.2s;\n",
       "  cursor: pointer;\n",
       "}\n",
       ".iqx-button {\n",
       "  background-color: #0f62fe; \n",
       "  color: white; \n",
       "}\n",
       ".iqx-button:hover {\n",
       "  background-color: #0043ce;\n",
       "  color: white;\n",
       "}\n",
       "</style>\n",
       "<a href=\"https://stackoverflow.com/search?q=NameError: name 'retrieve_job' is not defined\" target='_blank'><button class='button iqx-button'>Search for solution online</button></a>\n"
      ],
      "text/plain": [
       "<IPython.core.display.HTML object>"
      ]
     },
     "metadata": {},
     "output_type": "display_data"
    }
   ],
   "source": [
    "# Get the results and display them\n",
    "exp_result = retrieve_job.result()\n",
    "exp_counts = exp_result.get_counts()\n",
    "plot_histogram(exp_counts)"
   ]
  },
  {
   "cell_type": "code",
   "execution_count": null,
   "id": "88ddf3c8-732f-4825-a1b1-376bce0ab614",
   "metadata": {},
   "outputs": [],
   "source": [
    "# trace out Bob's results on qubit 2\n",
    "from qiskit.result import marginal_counts\n",
    "\n",
    "bobs_qubit = 2\n",
    "bobs_counts = marginal_counts(exp_counts, [bobs_qubit])\n",
    "plot_histogram(bobs_counts)"
   ]
  }
 ],
 "metadata": {
  "kernelspec": {
   "display_name": "Python 3",
   "language": "python",
   "name": "python3"
  },
  "language_info": {
   "codemirror_mode": {
    "name": "ipython",
    "version": 3
   },
   "file_extension": ".py",
   "mimetype": "text/x-python",
   "name": "python",
   "nbconvert_exporter": "python",
   "pygments_lexer": "ipython3",
   "version": "3.8.8"
  },
  "widgets": {
   "application/vnd.jupyter.widget-state+json": {
    "state": {},
    "version_major": 2,
    "version_minor": 0
   }
  }
 },
 "nbformat": 4,
 "nbformat_minor": 5
}
